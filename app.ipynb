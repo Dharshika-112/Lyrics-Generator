!pip install gradio transformers

import gradio as gr
from transformers import pipeline, set_seed
import textwrap

# Load model
generator = pipeline("text-generation", model="gpt2")
set_seed(42)

# Song generation function
def generate_song(topic):
    def generate_part(prompt, tokens):
        return generator(prompt, max_new_tokens=tokens, do_sample=True, temperature=0.9, pad_token_id=50256)[0]["generated_text"].replace(prompt, '').strip()

    # Prompts
    verse1 = generate_part(f"Verse 1 about {topic}:\n", 50)
    chorus = generate_part(f"Chorus about {topic}:\n", 40)
    verse2 = generate_part(f"Verse 2 about {topic}:\n", 50)

    wrap = lambda text: "\n".join(textwrap.wrap(text, width=60))
    song = f"🎵 Verse 1:\n{wrap(verse1)}\n\n🎶 Chorus:\n{wrap(chorus)}\n\n🎵 Verse 2:\n{wrap(verse2)}"
    return song

# Gradio UI
iface = gr.Interface(
    fn=generate_song,
    inputs=gr.Textbox(label="Enter Topic 🎤", placeholder="e.g. rain, love, dreams"),
    outputs=gr.Textbox(label="🎶 Generated Song", lines=15),
    title="🎼 Simple Lyrics Generator",
    description="Type a topic like 'love', 'rain', or 'dreams' and click to generate verses and chorus.",
)

iface.launch(share=True)  # ✅ Important for Colab
